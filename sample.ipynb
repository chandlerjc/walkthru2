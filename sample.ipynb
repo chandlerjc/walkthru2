{
 "cells": [
  {
   "cell_type": "markdown",
   "id": "dc4761f7-f2fc-4852-90cb-75706468b6d2",
   "metadata": {},
   "source": [
    "## Walkthru sample notebook"
   ]
  },
  {
   "cell_type": "markdown",
   "id": "6a3cf415-f8b2-4752-801d-ac618905fa04",
   "metadata": {},
   "source": []
  }
 ],
 "metadata": {
  "kernelspec": {
   "display_name": "Python 3 (ipykernel)",
   "language": "python",
   "name": "python3"
  },
  "language_info": {
   "codemirror_mode": {
    "name": "ipython",
    "version": 3
   },
   "file_extension": ".py",
   "mimetype": "text/x-python",
   "name": "python",
   "nbconvert_exporter": "python",
   "pygments_lexer": "ipython3",
   "version": "3.9.13"
  }
 },
 "nbformat": 4,
 "nbformat_minor": 5
}
