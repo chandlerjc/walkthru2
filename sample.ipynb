{
 "cells": [
  {
   "cell_type": "markdown",
   "id": "dc4761f7-f2fc-4852-90cb-75706468b6d2",
   "metadata": {},
   "source": [
    "## Walkthru sample notebook"
   ]
  },
  {
   "cell_type": "code",
   "execution_count": 4,
   "id": "f91eaed5-71e6-43c1-a8e0-418ad8e02b16",
   "metadata": {},
   "outputs": [
    {
     "name": "stdout",
     "output_type": "stream",
     "text": [
      "hello world!\n"
     ]
    }
   ],
   "source": [
    "print(\"hello world!\")"
   ]
  },
  {
   "cell_type": "code",
   "execution_count": null,
   "id": "1a0fd24a-7ddd-4acb-af70-71895143f4db",
   "metadata": {},
   "outputs": [],
   "source": []
  }
 ],
 "metadata": {
  "kernelspec": {
   "display_name": "Python 3 (ipykernel)",
   "language": "python",
   "name": "python3"
  },
  "language_info": {
   "codemirror_mode": {
    "name": "ipython",
    "version": 3
   },
   "file_extension": ".py",
   "mimetype": "text/x-python",
   "name": "python",
   "nbconvert_exporter": "python",
   "pygments_lexer": "ipython3",
   "version": "3.10.6"
  }
 },
 "nbformat": 4,
 "nbformat_minor": 5
}
